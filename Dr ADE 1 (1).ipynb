{
 "cells": [
  {
   "cell_type": "code",
   "execution_count": 1,
   "id": "930b6019-a0b2-49a2-939b-d20c7bc4ea11",
   "metadata": {
    "tags": []
   },
   "outputs": [
    {
     "name": "stdout",
     "output_type": "stream",
     "text": [
      "Dr aderele\n"
     ]
    }
   ],
   "source": [
    "print(\"Dr aderele\")"
   ]
  },
  {
   "cell_type": "code",
   "execution_count": 9,
   "id": "3cab0672-002c-4ace-941a-1d65cd035379",
   "metadata": {
    "tags": []
   },
   "outputs": [
    {
     "name": "stdout",
     "output_type": "stream",
     "text": [
      "Dr ADERELE DATA TRAINED\n"
     ]
    }
   ],
   "source": [
    "print (\"Dr ADERELE DATA TRAINED\")"
   ]
  },
  {
   "cell_type": "code",
   "execution_count": null,
   "id": "5a22ba93-6491-4029-96c7-df066c82a815",
   "metadata": {},
   "outputs": [],
   "source": []
  },
  {
   "cell_type": "code",
   "execution_count": 8,
   "id": "0d3c4551-98fa-48d6-8f22-e90813039813",
   "metadata": {
    "tags": []
   },
   "outputs": [
    {
     "data": {
      "text/plain": [
       "25"
      ]
     },
     "execution_count": 8,
     "metadata": {},
     "output_type": "execute_result"
    }
   ],
   "source": [
    "10+15"
   ]
  },
  {
   "cell_type": "code",
   "execution_count": 10,
   "id": "14c50bf5-8169-41ba-99d3-56a9f51b9788",
   "metadata": {
    "tags": []
   },
   "outputs": [
    {
     "name": "stdout",
     "output_type": "stream",
     "text": [
      "32\n"
     ]
    }
   ],
   "source": [
    "print(12+20)"
   ]
  }
 ],
 "metadata": {
  "kernelspec": {
   "display_name": "Python 3 (ipykernel)",
   "language": "python",
   "name": "python3"
  },
  "language_info": {
   "codemirror_mode": {
    "name": "ipython",
    "version": 3
   },
   "file_extension": ".py",
   "mimetype": "text/x-python",
   "name": "python",
   "nbconvert_exporter": "python",
   "pygments_lexer": "ipython3",
   "version": "3.11.3"
  }
 },
 "nbformat": 4,
 "nbformat_minor": 5
}
